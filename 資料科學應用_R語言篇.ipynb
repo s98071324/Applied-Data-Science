{
  "nbformat": 4,
  "nbformat_minor": 0,
  "metadata": {
    "colab": {
      "name": "資料科學應用 - R語言篇.ipynb",
      "provenance": [],
      "collapsed_sections": [],
      "toc_visible": true,
      "include_colab_link": true
    },
    "kernelspec": {
      "name": "ir",
      "display_name": "R"
    }
  },
  "cells": [
    {
      "cell_type": "markdown",
      "metadata": {
        "id": "view-in-github",
        "colab_type": "text"
      },
      "source": [
        "<a href=\"https://colab.research.google.com/github/HungHuaTien/Applied-Data-Science/blob/master/%E8%B3%87%E6%96%99%E7%A7%91%E5%AD%B8%E6%87%89%E7%94%A8_R%E8%AA%9E%E8%A8%80%E7%AF%87.ipynb\" target=\"_parent\"><img src=\"https://colab.research.google.com/assets/colab-badge.svg\" alt=\"Open In Colab\"/></a>"
      ]
    },
    {
      "cell_type": "markdown",
      "metadata": {
        "id": "AtxyCnlCcAi1",
        "colab_type": "text"
      },
      "source": [
        ""
      ]
    },
    {
      "cell_type": "markdown",
      "metadata": {
        "id": "sRccle89UB2V",
        "colab_type": "text"
      },
      "source": [
        "# Week 1 09-18-2020\n",
        "\n",
        "課程綱要介紹\n",
        "\n",
        "排上課座位"
      ]
    },
    {
      "cell_type": "markdown",
      "metadata": {
        "id": "jqP1vUMXVQ7M",
        "colab_type": "text"
      },
      "source": [
        "# Week 2 09-25-2020\n",
        "\n",
        "TQC證照考試，報名證照考試的同學請參加考試。"
      ]
    },
    {
      "cell_type": "markdown",
      "metadata": {
        "id": "9DYhYlAeVi76",
        "colab_type": "text"
      },
      "source": [
        "# Week 3 10-02-2020\n",
        "\n",
        "國定假日\n",
        "\n",
        "影片觀賞\n",
        "\n",
        "[數位時代的淘金術 ─ 從大數據到人工智慧│2016 秋季展望科普演講](https://www.youtube.com/watch?v=X-Q72NiI3SQ)\n",
        "\n",
        "[人工智慧在臺灣：產業轉型的契機與挑戰｜陳昇瑋研究員](https://www.youtube.com/watch?v=OddYM6aq-zM)"
      ]
    },
    {
      "cell_type": "markdown",
      "metadata": {
        "id": "vcy3QuR7W12j",
        "colab_type": "text"
      },
      "source": [
        "# Week 4 10-09-2020\n",
        "\n",
        "國定假日"
      ]
    },
    {
      "cell_type": "markdown",
      "metadata": {
        "id": "4Ms2-EmBW9qq",
        "colab_type": "text"
      },
      "source": [
        "# Week 5 10-16-2020\n",
        "\n",
        "R軟體/RStudio介紹"
      ]
    },
    {
      "cell_type": "markdown",
      "metadata": {
        "id": "UKEqwlr-XSqz",
        "colab_type": "text"
      },
      "source": [
        "# Week 6 10-23-2020\n",
        "\n",
        "R語言物件(向量、因子、矩陣)"
      ]
    },
    {
      "cell_type": "markdown",
      "metadata": {
        "id": "mcij_yg2XaKT",
        "colab_type": "text"
      },
      "source": [
        "# Week 7 10-30-2020\n",
        "\n",
        "R語言物件(表列、資料框、時間日期)"
      ]
    },
    {
      "cell_type": "markdown",
      "metadata": {
        "id": "ttKynF9XXhYT",
        "colab_type": "text"
      },
      "source": [
        "# Week 8 11-06-2020\n",
        "\n",
        "資料輸入"
      ]
    },
    {
      "cell_type": "markdown",
      "metadata": {
        "id": "eO25uKZwXrQc",
        "colab_type": "text"
      },
      "source": [
        "# Week 9 11-13-2020\n",
        "\n",
        "資料輸出"
      ]
    }
  ]
}