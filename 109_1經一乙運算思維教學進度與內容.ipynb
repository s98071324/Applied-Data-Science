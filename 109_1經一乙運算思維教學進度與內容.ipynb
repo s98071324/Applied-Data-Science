{
  "nbformat": 4,
  "nbformat_minor": 0,
  "metadata": {
    "colab": {
      "name": "109-1經一乙運算思維教學進度與內容.ipynb",
      "provenance": [],
      "collapsed_sections": [],
      "toc_visible": true,
      "authorship_tag": "ABX9TyOz8nQPwVguaT93dT+/QCPk",
      "include_colab_link": true
    },
    "kernelspec": {
      "name": "python3",
      "display_name": "Python 3"
    }
  },
  "cells": [
    {
      "cell_type": "markdown",
      "metadata": {
        "id": "view-in-github",
        "colab_type": "text"
      },
      "source": [
        "<a href=\"https://colab.research.google.com/github/HungHuaTien/Applied-Data-Science/blob/master/109_1%E7%B6%93%E4%B8%80%E4%B9%99%E9%81%8B%E7%AE%97%E6%80%9D%E7%B6%AD%E6%95%99%E5%AD%B8%E9%80%B2%E5%BA%A6%E8%88%87%E5%85%A7%E5%AE%B9.ipynb\" target=\"_parent\"><img src=\"https://colab.research.google.com/assets/colab-badge.svg\" alt=\"Open In Colab\"/></a>"
      ]
    },
    {
      "cell_type": "markdown",
      "metadata": {
        "id": "PXT4z0DUG_3t"
      },
      "source": [
        "# Week 1 09-14-2020\n",
        "\n",
        "**課程綱要**\n",
        "\n",
        "- 在Github平台設立帳戶，繳交所有作業\n",
        "\n",
        "[教學影片](https://youtu.be/vw2PCJwI7zM)\n",
        "\n",
        "- 作業1:[期初問卷調查-請回傳Github帳戶](https://forms.gle/9qPi1w3FWiFmdUCk6)"
      ]
    },
    {
      "cell_type": "markdown",
      "metadata": {
        "id": "UuWC79wLiEyI"
      },
      "source": [
        "**上課過程速記**\n",
        "\n",
        "1.今天上課的速度慢，應該直接進入課程綱要會比較理想，所有同學才能在課堂上順利完成Github帳戶的開戶。又，Github設立帳戶的教學影片已經放上，請同學自行觀看。\n",
        "\n",
        "2.還沒填寫問卷繳交作業的同學，下星期一前請盡快繳交。"
      ]
    },
    {
      "cell_type": "markdown",
      "metadata": {
        "id": "MsKd-fPKZ7fA"
      },
      "source": [
        "課程錄影\n",
        "\n",
        "[第一小時的影片](https://youtu.be/P8YEzqUK1ko)\n",
        "\n",
        "[第二小時的影片](https://youtu.be/xoKaYEeyO24)"
      ]
    },
    {
      "cell_type": "markdown",
      "metadata": {
        "id": "gLKnTR6nHYiD"
      },
      "source": [
        "# Week 2 09-21-2020\n",
        "\n",
        "上課內容：大數據與人工智慧的趨勢\n",
        "\n",
        "作業2: 百字心得見解。\n",
        "請從網路上找一篇故事或報導，是關於世界各國與各級學校目前積極推動「程式設計與運算思維」教育的內容，請寫下你支持與不支持的意見。\n",
        "請將作業寫在word中，然後存成「week2.pdf」的檔案名稱與格式，最後上傳到Github你的帳戶平台上。\n"
      ]
    },
    {
      "cell_type": "markdown",
      "metadata": {
        "id": "nIe9CoLre_Kb"
      },
      "source": [
        "**個別指導與注意事項**\n",
        "\n",
        "對Ｇithub平台的操作有問題的同學，下星期一上課時會示範一次。\n",
        "\n",
        "請同學每週都準時交作業到Github中，也就是星期一13:00以前上傳作業。\n",
        "\n",
        "Github平台具有版本追蹤功能，只要同學準時交作業，都可以依據Github平台的紀錄打成績，請同學不用焦慮。一學期我會公布三次作業成績，每個主題一次。第一次公布作業成績是在上完「入門概論」單元。"
      ]
    },
    {
      "cell_type": "markdown",
      "metadata": {
        "id": "TIiokBDLnERW"
      },
      "source": [
        "課程內容補充\n",
        "\n",
        "[GPU與CPU的比較](https://youtu.be/-P28LKWTzrI)"
      ]
    },
    {
      "cell_type": "markdown",
      "metadata": {
        "id": "QPUFvMqAHjK8"
      },
      "source": [
        "# Week 3 09-28-2020\n",
        "\n",
        "**課程內容**\n",
        "\n",
        "Github操作確認\n",
        "\n",
        "用電腦解決問題（二）：運算思維\n",
        "\n",
        "作業3: Man, Cabbage, Goat, Wolf Problem\n",
        "\n",
        "請描述清楚這個問題是什麼，以及什麼是這個問題的演算法。"
      ]
    },
    {
      "cell_type": "markdown",
      "metadata": {
        "id": "fhXLyJhgxQop"
      },
      "source": [
        "**FB社團**\n",
        "\n",
        "有同學反應：記住我的github網址才進入課程網頁，不方便。在原Github網址照常運作下，提供另一個自由加入退出的選項。同學可以加入選擇FB社團，用自己的帳號進入後，從置頂公告做連結。請記得，修課完畢後，請同學自行退出。\n"
      ]
    },
    {
      "cell_type": "markdown",
      "metadata": {
        "id": "uvA5iCHZS5vM"
      },
      "source": [
        "**課堂錄影**\n",
        "\n",
        "[第一小時](https://youtu.be/SSPDLSrCGJk)\n",
        "\n",
        "[第二小時](https://youtu.be/Lo06TLD7ZCw)"
      ]
    },
    {
      "cell_type": "markdown",
      "metadata": {
        "id": "yI_S1V39H1Rk"
      },
      "source": [
        "# Week 4 10-05-2020\n",
        "\n",
        "**上課進度**\n",
        "\n",
        "邏輯\n",
        "用電腦解決問題的步驟\n",
        "\n",
        "作業4: 請用邏輯定理詳細說明，當女朋友說「如果太陽從西邊出來，我一定嫁給你」。這句話表示（1)無論如何，她肯定不嫁你。(2)她什麼都沒說，你還有機會！"
      ]
    },
    {
      "cell_type": "markdown",
      "metadata": {
        "id": "4kd2N13zww1B"
      },
      "source": [
        "**上課速記**\n",
        "\n",
        "請同學上課不要講話。如果同學有事需要講話，下星期開始，請你到教室外面講，講完了再進教室。"
      ]
    },
    {
      "cell_type": "markdown",
      "metadata": {
        "id": "OWwz6xcev-HJ"
      },
      "source": [
        "**錄影內容**\n",
        "\n",
        "[第一小時](https://youtu.be/aWXKAgZaIqs)\n",
        "\n",
        "[第二小時](https://youtu.be/t2bCF4vT7S0)"
      ]
    },
    {
      "cell_type": "markdown",
      "metadata": {
        "id": "ojRdx8fRH7Dn"
      },
      "source": [
        "# Week 5 10-12-2020\n",
        "\n",
        "入門概論：用電腦解決問題 - 程式設計與虛擬碼\n",
        "\n",
        "作業5: 請寫出虛擬碼並畫出流程圖 \n",
        "\n",
        "使用者輸入密碼，如果和電腦的設定相同，則輸出「請進」，如果不同則輸出「再試一次」，而最多可以試三次。電腦的預設密碼是「Python」這個字。\n"
      ]
    },
    {
      "cell_type": "markdown",
      "metadata": {
        "id": "M1cgahtKt2nK"
      },
      "source": [
        "**上課錄影**\n",
        "\n",
        "[第一小時](https://youtu.be/_XQ3g2ppAp8)\n",
        "\n",
        "[第二小時](https://youtu.be/JnoDESv43OU)"
      ]
    },
    {
      "cell_type": "markdown",
      "metadata": {
        "id": "x9_2YU6tH_Nf"
      },
      "source": [
        "# Week 6 10-19-2020\n",
        "\n",
        "**上課內容**\n",
        "\n",
        "入門概論（四）：用電腦解決問題的步驟 Python使用環境介紹\n",
        "\n",
        "作業：(1)請用Thonny軟件，打印print(\"Hello World\")，並存成「Week6.py」檔案上傳Github。(2)請用Google Colab，同樣打印print(\"Hello World\")，直接從Colab存到Github上面，檔名為「Week6.ipynb」。\n",
        "\n",
        "加分題: 請找其他同學，利用Colab分享功能，在「Ｗeek6-加分作業.ipynb」上，相互打招呼，並寫出自己的班級學號姓名。每多一位同學加一分，做多加五人五分。\n",
        "\n",
        "\n",
        "**第一次作業截止時間：下星期一（10/26)上課前中午12:00，一共五次作業，預期不候0分計算。**"
      ]
    },
    {
      "cell_type": "markdown",
      "metadata": {
        "id": "KPmlLhveICpH"
      },
      "source": [
        "# Week 7 10-26-2020\n",
        "\n",
        "**上課內容**\n",
        "\n",
        "序列結構（一）：變數和數字資料的操作\n",
        "\n",
        "作業：## 習題：PEMDAS運算\n",
        "\n",
        "就像數學一樣，算數運算子遵循一套特殊的順序進行計算。讓我們看看你能否使用這些概念創造一個超級計算機！\n",
        "\n",
        "請創立一個名為magic_number的變數，指派其等於333的特殊計算。計算必須遵循這些規則：\n",
        "\n",
        "(1)你必須至少使用**運算子一次。\n",
        "(2)你必須至少使用%運算子一次。\n",
        "\n",
        "將magic_number變數指定給電腦後，使用print()函式確保它等於333!\n",
        "\n",
        "～本週有加分選擇題，題目是為了讓同學知道程式語法（規矩！遵守規矩就能讓電腦讀懂你寫的東西！！）\n",
        "\n",
        "～唐浦鈞請重填一次問卷，給我你github的網址。"
      ]
    },
    {
      "cell_type": "markdown",
      "metadata": {
        "id": "i6J8-jP29t-e"
      },
      "source": [
        "＊＊課程錄影＊＊\n",
        "\n",
        "[錄影連結](https://youtu.be/OpByJHdG1nM)"
      ]
    },
    {
      "cell_type": "markdown",
      "metadata": {
        "id": "5eu5hOXkINVj"
      },
      "source": [
        "# Week 8 11-02-2020\n",
        "\n",
        "**上課內容**\n",
        "\n",
        "互動輸入與螢幕輸出函數\n",
        "\n",
        "作業:服裝訂購系統,賣場買飲料,求三數總和與平均"
      ]
    },
    {
      "cell_type": "markdown",
      "metadata": {
        "id": "bPCDcYnHz2GA"
      },
      "source": [
        "**課程錄影**\n",
        "\n",
        "[第一小時](https://youtu.be/lrlS_pA-0Os)"
      ]
    },
    {
      "cell_type": "markdown",
      "metadata": {
        "id": "0gsqgjDrISw9"
      },
      "source": [
        "# Week 9 11-10-2020\n",
        "\n",
        "**上課內容**\n",
        "\n",
        "運算思維\n",
        "\n",
        "[課程錄影](https://youtu.be/0YA9JdYCmg4)\n",
        "\n",
        "**請同學到Google Drive看一下，Github的帳戶連結是否正確。**"
      ]
    },
    {
      "cell_type": "markdown",
      "metadata": {
        "id": "k-Wn1Znf6DGR"
      },
      "source": [
        "# Week 10 11-16-2020"
      ]
    },
    {
      "cell_type": "code",
      "metadata": {
        "id": "MPsLO_YJ6MLW"
      },
      "source": [
        ""
      ],
      "execution_count": null,
      "outputs": []
    },
    {
      "cell_type": "markdown",
      "metadata": {
        "id": "BDAPKn9W6Mlw"
      },
      "source": [
        "# Week 11 11-23-2020"
      ]
    },
    {
      "cell_type": "code",
      "metadata": {
        "id": "M9G5DYRD6RUO"
      },
      "source": [
        ""
      ],
      "execution_count": null,
      "outputs": []
    },
    {
      "cell_type": "markdown",
      "metadata": {
        "id": "QEci_XzI6SEd"
      },
      "source": [
        "#Week 12 11-30-2020"
      ]
    },
    {
      "cell_type": "code",
      "metadata": {
        "id": "juWleh2h6c_f"
      },
      "source": [
        ""
      ],
      "execution_count": null,
      "outputs": []
    },
    {
      "cell_type": "markdown",
      "metadata": {
        "id": "oDOPI5Z-6e8n"
      },
      "source": [
        "#Week 13 12-07-2020"
      ]
    },
    {
      "cell_type": "code",
      "metadata": {
        "id": "9D9Ca4Tw6i_5"
      },
      "source": [
        ""
      ],
      "execution_count": null,
      "outputs": []
    },
    {
      "cell_type": "markdown",
      "metadata": {
        "id": "HzEy1gje6j86"
      },
      "source": [
        "#Week 14 12-14-2020"
      ]
    },
    {
      "cell_type": "code",
      "metadata": {
        "id": "y0KjLrcH6nAv"
      },
      "source": [
        ""
      ],
      "execution_count": null,
      "outputs": []
    },
    {
      "cell_type": "markdown",
      "metadata": {
        "id": "J4zmfQqc6nvd"
      },
      "source": [
        "# Week 15 12-21-2020"
      ]
    },
    {
      "cell_type": "code",
      "metadata": {
        "id": "VSpGxWbc6qjP"
      },
      "source": [
        ""
      ],
      "execution_count": null,
      "outputs": []
    },
    {
      "cell_type": "markdown",
      "metadata": {
        "id": "ApUGKXfQ6rWf"
      },
      "source": [
        "# Week 16 12-28-2020"
      ]
    },
    {
      "cell_type": "code",
      "metadata": {
        "id": "1E9KpKdP6up0"
      },
      "source": [
        ""
      ],
      "execution_count": null,
      "outputs": []
    },
    {
      "cell_type": "markdown",
      "metadata": {
        "id": "SYaJb-YZ6vfw"
      },
      "source": [
        "# Week 17 01-04-2021"
      ]
    },
    {
      "cell_type": "code",
      "metadata": {
        "id": "iswO2wOP6zi9"
      },
      "source": [
        ""
      ],
      "execution_count": null,
      "outputs": []
    },
    {
      "cell_type": "markdown",
      "metadata": {
        "id": "Hx6PmsDh60PZ"
      },
      "source": [
        "# Week 18 01-11-2021\n"
      ]
    },
    {
      "cell_type": "code",
      "metadata": {
        "id": "MB6k0DCy7AKk"
      },
      "source": [
        ""
      ],
      "execution_count": null,
      "outputs": []
    }
  ]
}