{
  "nbformat": 4,
  "nbformat_minor": 0,
  "metadata": {
    "colab": {
      "name": "109-1資料科學-R語言課程進度.ipynb",
      "provenance": [],
      "collapsed_sections": [],
      "include_colab_link": true
    },
    "kernelspec": {
      "name": "ir",
      "display_name": "R"
    }
  },
  "cells": [
    {
      "cell_type": "markdown",
      "metadata": {
        "id": "view-in-github",
        "colab_type": "text"
      },
      "source": [
        "<a href=\"https://colab.research.google.com/github/HungHuaTien/Applied-Data-Science/blob/master/109_1%E8%B3%87%E6%96%99%E7%A7%91%E5%AD%B8_R%E8%AA%9E%E8%A8%80%E8%AA%B2%E7%A8%8B%E9%80%B2%E5%BA%A6.ipynb\" target=\"_parent\"><img src=\"https://colab.research.google.com/assets/colab-badge.svg\" alt=\"Open In Colab\"/></a>"
      ]
    },
    {
      "cell_type": "markdown",
      "metadata": {
        "id": "sRccle89UB2V"
      },
      "source": [
        "# Week 1 09-18-2020\n",
        "\n",
        "**課程內容**\n",
        "\n",
        "課程綱要介紹\n",
        "\n",
        "作業1: [問卷調查-Github網址](https://docs.google.com/forms/d/e/1FAIpQLScZoQguAvOvVyqerCoO_udd30nLy0dSjbcYk4Uzb21lRehIqQ/viewform?usp=pp_url)\n"
      ]
    },
    {
      "cell_type": "markdown",
      "metadata": {
        "id": "-3ir7v-riJJX"
      },
      "source": [
        "\n",
        "1: 請同學在Github平台設立帳戶，繳交所有作業。\n",
        "\n",
        "- 專案名稱：DS-R1\n",
        "- 描述：資料科學應用\n",
        "- 若有問題，可以參考下面的教學影片設立帳戶。\n",
        "\n",
        "[教學影片](https://youtu.be/vw2PCJwI7zM)"
      ]
    },
    {
      "cell_type": "markdown",
      "metadata": {
        "id": "VU5HB6rxkZfu"
      },
      "source": [
        "2: 請同學上課要帶筆電，並先向學校申請使用無線網路的權限。\n",
        "\n",
        "下次上課前，請先下載Ｒ與ＲStudio程式到自己的筆電中，免得上課時網路雍塞。若安裝有問題，通常是你下載檔案內容的不完全，重新下載就可以了。\n",
        "日後每次上課前，也請先下載上課講義到自己的電腦上。\n",
        "另外，教室兩旁有插頭，請同學自備延長線，大家輪流使用，上課三小時應該沒問題。"
      ]
    },
    {
      "cell_type": "markdown",
      "metadata": {
        "id": "xPehmyW6lXS2"
      },
      "source": [
        "3:請同學填寫上面的問卷。\n",
        "\n",
        "請記得要給我Github帳戶，以及座位偏好，我會先排上課座位。"
      ]
    },
    {
      "cell_type": "markdown",
      "metadata": {
        "id": "CMgdo7KosajW"
      },
      "source": [
        "**上課速記**\n",
        "\n",
        "今天到課的人數約為一半，若有心要學的同學，請日後要準時上課才好。又，這堂課是從頭開始教Ｒ，之前沒有修資料科學概論的同學，完全不用擔心。另外，吳老師答應上課錄影，同學可以回家反覆學習。\n",
        "\n",
        "商業分析～資料科學～數據分析：要走這一條路的同學，目前就業市場很好，但需要同學在校期間打好基礎。數據分析能讓我們用證據做決策，用在自己感興趣的問題上，非常的有意思，出路也很寬，是個值得投資的領域。"
      ]
    },
    {
      "cell_type": "markdown",
      "metadata": {
        "id": "jqP1vUMXVQ7M"
      },
      "source": [
        "# Week 2 09-25-2020\n",
        "\n",
        "TQC證照考試，報名證照考試的同學請參加考試。\n",
        "\n",
        "- 考試教室：M308\n",
        "- 考試時間：請09/25 14:00 準時到場 (但因為當場裝考試軟體，考試時間會稍晚一點）"
      ]
    },
    {
      "cell_type": "markdown",
      "metadata": {
        "id": "DYEIdoTG215l"
      },
      "source": [
        " 能參加考試的同學都值得稱讚。我們也發現同學學習上的問題：學寫程式，一定要親自動手，考試是確認會與不會的好方法！"
      ]
    },
    {
      "cell_type": "markdown",
      "metadata": {
        "id": "9DYhYlAeVi76"
      },
      "source": [
        "# Week 3 10-02-2020\n",
        "\n",
        "國定假日\n",
        "\n",
        "影片觀賞\n",
        "\n",
        "[數位時代的淘金術 ─ 從大數據到人工智慧│2016 秋季展望科普演講](https://www.youtube.com/watch?v=X-Q72NiI3SQ)\n",
        "\n",
        "[人工智慧在臺灣：產業轉型的契機與挑戰｜陳昇瑋研究員](https://www.youtube.com/watch?v=OddYM6aq-zM)"
      ]
    },
    {
      "cell_type": "markdown",
      "metadata": {
        "id": "vcy3QuR7W12j"
      },
      "source": [
        "# Week 4 10-09-2020\n",
        "\n",
        "國定假日"
      ]
    },
    {
      "cell_type": "markdown",
      "metadata": {
        "id": "4Ms2-EmBW9qq"
      },
      "source": [
        "# Week 5 10-16-2020\n",
        "\n",
        "**課程內容**\n",
        "\n",
        "R軟體/RStudio介紹\n",
        "\n",
        "作業：今天沒有作業"
      ]
    },
    {
      "cell_type": "markdown",
      "metadata": {
        "id": "X6j5CKtFdrp6"
      },
      "source": [
        "**注意事項**\n",
        "\n",
        "1. 座位表已經排定。請同學照座位入座，每週上課都會依照座位點名。\n",
        "\n",
        "2. 上課前，請先下載上課講義與所需軟體套件到電腦上。若有需要，請自備延長線共用。"
      ]
    },
    {
      "cell_type": "markdown",
      "metadata": {
        "id": "JxzuWwCVapzC"
      },
      "source": [
        "**上課速記**\n",
        "\n",
        "同學表示：大一上Ｒ時，沒有學過RStudio，所以比較不熟。吳老師教得非常清楚詳盡，如果同學仍有需要，可以到Google Drive下載我整理的講義。[R軟體](https://drive.google.com/file/d/1YFLFQDUe3mCbVEgzpg-cutSf9qNGivF8/view?usp=sharing)\n",
        "\n",
        "吳老師是國內R語言的翹楚，他很會教書。我們能請到他來演講、從頭開始教R，是我們的福氣，同學要把握機會學好。\n",
        "\n",
        "有同學表示要旁聽。原則上歡迎旁聽，更希望同學正式修課。請注意：要旁聽的同學，比照正式修課的要求：排座位、交作業、參加考試。"
      ]
    },
    {
      "cell_type": "markdown",
      "metadata": {
        "id": "-OnmZqU4GD8G"
      },
      "source": [
        "**課程錄影**\n",
        "\n",
        "[第一小時](https://youtu.be/ILjHzp8TBEM)\n",
        "\n",
        "[第二小時](https://youtu.be/Ge6hQdkNUOg)\n",
        "\n",
        "[第三小時](https://youtu.be/qHvaH48886Q)\n",
        "\n",
        "參考：業師授課摘要，有需要者請見Github課程網頁檔案，或可到Google Drive下載。"
      ]
    },
    {
      "cell_type": "markdown",
      "metadata": {
        "id": "UKEqwlr-XSqz"
      },
      "source": [
        "# Week 6 10-23-2020\n",
        "\n",
        "**課程內容**\n",
        "\n",
        "R語言物件(向量、因子、矩陣)\n",
        "\n",
        "**本週有作業，請同學到業師的課程網頁下載。作業下星期四24:00前繳交，請同學儘量寫，讓R的功力大增。如果同學有任何問題和建議，都可以寫在做業上，我會瞭解情況後處理調整。另外，記得要存成pdf檔案後，再上傳github，即檔名為學號-姓名-R-HW1.pdf (例如: 1234567-吳小銘-R-HW1.pdf)。Github網址還沒有傳給我的，請填第一週問卷。**\n",
        "\n",
        "～同學可以加入業師的FB Messanger討論區。\n",
        "～作業有不會的地方，多多請教Google大神。"
      ]
    },
    {
      "cell_type": "markdown",
      "metadata": {
        "id": "JWZZ01SxHIQt"
      },
      "source": [
        "**上課速記**\n",
        "\n",
        "1. 有同學表示電腦運作有問題。建議同學回家後，可以試看看用Rstudio Cloud跑。和之前的Google Colab道理一樣，這是雲端版的Rstudio，使用畫面和桌機版的一樣。課堂上怕塞車，所以請同學以自己桌機版Rstudio運作為主，若遇到特殊情況時再用RStudio Cloud。\n",
        "\n",
        "2. rgl套件在雲端經適當設定可以正確執行(沒有錯誤訊息），但無法顯示結果。\n",
        "  在windows跑demo(rgl)無法顯示所有的示範程式，跑到一半界會當掉。\n",
        "  在Mac跑demo(rgl)可以正常顯示所有結果。（有問題建議可重新下載R/RStudio安裝）\n",
        "\n",
        "3. **加分作業**：業師的物件講義，P17為課堂練習3：造出規律的序列。當中有7題沒有答案的練習題，同學每做出一題，平時成績加1分。"
      ]
    },
    {
      "cell_type": "markdown",
      "metadata": {
        "id": "i_c9eXEs3gcO"
      },
      "source": [
        "**課程錄影**\n",
        "\n",
        "[第一小時](https://youtu.be/MgZKWv0Px1U)\n",
        "\n",
        "[第二小時](https://youtu.be/BXE3G9lCh68)\n",
        "\n",
        "[第三小時](https://youtu.be/anUmoKGCJ58)"
      ]
    },
    {
      "cell_type": "markdown",
      "metadata": {
        "id": "mcij_yg2XaKT"
      },
      "source": [
        "# Week 7 10-30-2020\n",
        "\n",
        "R語言物件(表列、資料框、時間日期)"
      ]
    },
    {
      "cell_type": "markdown",
      "metadata": {
        "id": "ttKynF9XXhYT"
      },
      "source": [
        "# Week 8 11-06-2020\n",
        "\n",
        "資料輸入"
      ]
    },
    {
      "cell_type": "markdown",
      "metadata": {
        "id": "eO25uKZwXrQc"
      },
      "source": [
        "# Week 9 11-13-2020\n",
        "\n",
        "資料輸出"
      ]
    },
    {
      "cell_type": "markdown",
      "metadata": {
        "id": "eZx4ZD-gpz0u"
      },
      "source": [
        "# Week 10 11-20-2020\n",
        "\n",
        "編寫Ｒ函數（流程控制）"
      ]
    },
    {
      "cell_type": "markdown",
      "metadata": {
        "id": "RHfIXVgsqZnP"
      },
      "source": [
        "# Week 11 11-27-2020\n",
        "\n",
        "期中考"
      ]
    },
    {
      "cell_type": "markdown",
      "metadata": {
        "id": "UDn4WDaDqj9Q"
      },
      "source": [
        "# Week 12 12-04-2020\n",
        "\n",
        "編寫Ｒ函數（自訂函數）"
      ]
    },
    {
      "cell_type": "markdown",
      "metadata": {
        "id": "NNdVGgnFq6fg"
      },
      "source": [
        "# Ｗeek 13 12-11-2020\n",
        "R程式設計風格"
      ]
    },
    {
      "cell_type": "markdown",
      "metadata": {
        "id": "tFyKuw0crJIK"
      },
      "source": [
        "# Ｗeek 14 12-18-2020\n",
        "\n",
        "R統計圖形(Rbase)"
      ]
    },
    {
      "cell_type": "markdown",
      "metadata": {
        "id": "1QeKLW6xre-7"
      },
      "source": [
        "# Week 15 12-25-2020\n",
        "\n",
        "R統計圖形（ggplot2)"
      ]
    },
    {
      "cell_type": "markdown",
      "metadata": {
        "id": "7sq5CCfCrnM7"
      },
      "source": [
        "# Week 16 01-02-2020\n",
        "\n",
        "國定假日"
      ]
    },
    {
      "cell_type": "markdown",
      "metadata": {
        "id": "oXwdXntfruMb"
      },
      "source": [
        "# Ｗeek 17 01-09-2020\n",
        "\n",
        "R程式文件編制（Ｒmarkdown)"
      ]
    },
    {
      "cell_type": "markdown",
      "metadata": {
        "id": "nahhi6bYr9e0"
      },
      "source": [
        "# Week 18 01-16-2020\n",
        "\n",
        "期末考試"
      ]
    }
  ]
}