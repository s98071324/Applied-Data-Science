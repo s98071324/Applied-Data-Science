{
  "nbformat": 4,
  "nbformat_minor": 0,
  "metadata": {
    "colab": {
      "name": "109-1資料科學-R語言課程進度.ipynb",
      "provenance": [],
      "collapsed_sections": [],
      "toc_visible": true,
      "include_colab_link": true
    },
    "kernelspec": {
      "name": "ir",
      "display_name": "R"
    }
  },
  "cells": [
    {
      "cell_type": "markdown",
      "metadata": {
        "id": "view-in-github",
        "colab_type": "text"
      },
      "source": [
        "<a href=\"https://colab.research.google.com/github/HungHuaTien/Applied-Data-Science/blob/master/109_1%E8%B3%87%E6%96%99%E7%A7%91%E5%AD%B8_R%E8%AA%9E%E8%A8%80%E8%AA%B2%E7%A8%8B%E9%80%B2%E5%BA%A6.ipynb\" target=\"_parent\"><img src=\"https://colab.research.google.com/assets/colab-badge.svg\" alt=\"Open In Colab\"/></a>"
      ]
    },
    {
      "cell_type": "markdown",
      "metadata": {
        "id": "sRccle89UB2V"
      },
      "source": [
        "# Week 1 09-18-2020\n",
        "\n",
        "數據分析初探\n",
        "\n",
        "課程綱要介紹\n",
        "\n",
        "作業1: [問卷調查-Github網址](https://docs.google.com/forms/d/e/1FAIpQLScZoQguAvOvVyqerCoO_udd30nLy0dSjbcYk4Uzb21lRehIqQ/viewform?usp=pp_url)\n"
      ]
    },
    {
      "cell_type": "markdown",
      "metadata": {
        "id": "-3ir7v-riJJX"
      },
      "source": [
        "\n",
        "注意事項1: 請同學在Github平台設立帳戶，繳交所有作業。\n",
        "\n",
        "- 專案名稱：DS-R1\n",
        "- 描述：資料科學應用\n",
        "- 若有問題，可以參考下面的教學影片設立帳戶。\n",
        "\n",
        "[教學影片](https://youtu.be/vw2PCJwI7zM)"
      ]
    },
    {
      "cell_type": "markdown",
      "metadata": {
        "id": "VU5HB6rxkZfu"
      },
      "source": [
        "注意事項2: 請同學上課要帶筆電，並先向學校申請使用無線網路的權限。\n",
        "\n",
        "下次上課前，請先下載Ｒ與ＲStudio程式到自己的筆電中，免得上課時網路雍塞。若安裝有問題，通常是你下載檔案內容的不完全，重新下載就可以了。\n",
        "日後每次上課前，也請先下載上課講義到自己的電腦上。\n",
        "另外，教室兩旁有插頭，請同學自備延長線，大家輪流使用，上課三小時應該沒問題。"
      ]
    },
    {
      "cell_type": "markdown",
      "metadata": {
        "id": "xPehmyW6lXS2"
      },
      "source": [
        "注意事項3:請同學填寫上面的問卷。\n",
        "\n",
        "請記得要給我Github帳戶，以及座位偏好，我會先排上課座位。"
      ]
    },
    {
      "cell_type": "markdown",
      "metadata": {
        "id": "CMgdo7KosajW"
      },
      "source": [
        "**上課速記**\n",
        "\n",
        "今天到課的人數約為一半，若有心要學的同學，請日後要準時上課才好。\n",
        "\n",
        "商業分析～資料科學～數據分析\n",
        "要走這一條路的同學，目前就業市場很好，但請記得門檻也不低，需要同學在學校期間就打好基礎才行。數據分析能讓我們用證據做決策，用在自己感興趣的問題上，非常的有意思，出路也很寬，是個值得投資的領域。\n",
        "\n",
        "這堂課是從頭開始教Ｒ，之前沒有修資料科學概論的同學，完全不用擔心。另外，吳老師答應上課錄影，同學可以回家反覆學習。"
      ]
    },
    {
      "cell_type": "markdown",
      "metadata": {
        "id": "jqP1vUMXVQ7M"
      },
      "source": [
        "# Week 2 09-25-2020\n",
        "\n",
        "TQC證照考試，報名證照考試的同學請參加考試。\n",
        "\n",
        "- 考試教室：M308\n",
        "- 考試時間：請09/25 14:00 準時到場 (但因為當場裝考試軟體，考試時間會稍晚一點）"
      ]
    },
    {
      "cell_type": "markdown",
      "metadata": {
        "id": "DYEIdoTG215l"
      },
      "source": [
        " 能參加考試的同學都值得稱讚。我們也發現同學學習上的問題，學寫程式，自己認為懂了會了，一定要動手打進電腦確認無誤才行。考試是很好的確認方法，就像這學期的課一樣！"
      ]
    },
    {
      "cell_type": "markdown",
      "metadata": {
        "id": "9DYhYlAeVi76"
      },
      "source": [
        "# Week 3 10-02-2020\n",
        "\n",
        "國定假日\n",
        "\n",
        "影片觀賞\n",
        "\n",
        "[數位時代的淘金術 ─ 從大數據到人工智慧│2016 秋季展望科普演講](https://www.youtube.com/watch?v=X-Q72NiI3SQ)\n",
        "\n",
        "[人工智慧在臺灣：產業轉型的契機與挑戰｜陳昇瑋研究員](https://www.youtube.com/watch?v=OddYM6aq-zM)"
      ]
    },
    {
      "cell_type": "markdown",
      "metadata": {
        "id": "vcy3QuR7W12j"
      },
      "source": [
        "# Week 4 10-09-2020\n",
        "\n",
        "國定假日"
      ]
    },
    {
      "cell_type": "markdown",
      "metadata": {
        "id": "4Ms2-EmBW9qq"
      },
      "source": [
        "# Week 5 10-16-2020\n",
        "\n",
        "**上課主題**\n",
        "\n",
        "R軟體/RStudio介紹"
      ]
    },
    {
      "cell_type": "markdown",
      "metadata": {
        "id": "X6j5CKtFdrp6"
      },
      "source": [
        "**注意事項**\n",
        "\n",
        "1. 座位表已經排定。若你不滿意，而且你可以找到同學願意和你換座位，那你們可以用FB(Bigflower Francis)傳簡訊給我，進行更動。\n",
        "傳簡訊時間僅限於今天(10/16)9:00~15:00，之後就請按照座位坐。\n",
        "\n",
        "2. 請同學照座位入座，每週上課都會依照座位點名。\n",
        "\n",
        "3. 不確定網路狀況，所以上課前，請先下載上課講義與所需軟體套件到電腦上。\n",
        "\n",
        "4. 若有需要，請自備延長線，也請同學共用與輪用。\n"
      ]
    },
    {
      "cell_type": "markdown",
      "metadata": {
        "id": "UKEqwlr-XSqz"
      },
      "source": [
        "# Week 6 10-23-2020\n",
        "\n",
        "R語言物件(向量、因子、矩陣)"
      ]
    },
    {
      "cell_type": "markdown",
      "metadata": {
        "id": "mcij_yg2XaKT"
      },
      "source": [
        "# Week 7 10-30-2020\n",
        "\n",
        "R語言物件(表列、資料框、時間日期)"
      ]
    },
    {
      "cell_type": "markdown",
      "metadata": {
        "id": "ttKynF9XXhYT"
      },
      "source": [
        "# Week 8 11-06-2020\n",
        "\n",
        "資料輸入"
      ]
    },
    {
      "cell_type": "markdown",
      "metadata": {
        "id": "eO25uKZwXrQc"
      },
      "source": [
        "# Week 9 11-13-2020\n",
        "\n",
        "資料輸出"
      ]
    },
    {
      "cell_type": "markdown",
      "metadata": {
        "id": "eZx4ZD-gpz0u"
      },
      "source": [
        "# Week 10 11-20-2020\n",
        "\n",
        "編寫Ｒ函數（流程控制）"
      ]
    },
    {
      "cell_type": "markdown",
      "metadata": {
        "id": "RHfIXVgsqZnP"
      },
      "source": [
        "# Week 11 11-27-2020\n",
        "\n",
        "期中考"
      ]
    },
    {
      "cell_type": "markdown",
      "metadata": {
        "id": "UDn4WDaDqj9Q"
      },
      "source": [
        "# Week 12 12-04-2020\n",
        "\n",
        "編寫Ｒ函數（自訂函數）"
      ]
    },
    {
      "cell_type": "markdown",
      "metadata": {
        "id": "NNdVGgnFq6fg"
      },
      "source": [
        "# Ｗeek 13 12-11-2020\n",
        "R程式設計風格"
      ]
    },
    {
      "cell_type": "markdown",
      "metadata": {
        "id": "tFyKuw0crJIK"
      },
      "source": [
        "# Ｗeek 14 12-18-2020\n",
        "\n",
        "R統計圖形(Rbase)"
      ]
    },
    {
      "cell_type": "markdown",
      "metadata": {
        "id": "1QeKLW6xre-7"
      },
      "source": [
        "# Week 15 12-25-2020\n",
        "\n",
        "R統計圖形（ggplot2)"
      ]
    },
    {
      "cell_type": "markdown",
      "metadata": {
        "id": "7sq5CCfCrnM7"
      },
      "source": [
        "# Week 16 01-02-2020\n",
        "\n",
        "國定假日"
      ]
    },
    {
      "cell_type": "markdown",
      "metadata": {
        "id": "oXwdXntfruMb"
      },
      "source": [
        "# Ｗeek 17 01-09-2020\n",
        "\n",
        "R程式文件編制（Ｒmarkdown)"
      ]
    },
    {
      "cell_type": "markdown",
      "metadata": {
        "id": "nahhi6bYr9e0"
      },
      "source": [
        "# Week 18 01-16-2020\n",
        "\n",
        "期末考試"
      ]
    }
  ]
}